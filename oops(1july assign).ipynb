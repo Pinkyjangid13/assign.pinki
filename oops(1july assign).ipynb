{
 "cells": [
  {
   "cell_type": "code",
   "execution_count": null,
   "id": "6555a7bb",
   "metadata": {},
   "outputs": [],
   "source": [
    "#1) Primary goal of OOPs\n",
    "'''The primary goal of Object-Oriented Programming (OOP) is to organize software design around data, or objects, rather than functions and logic. The key objectives include:\n",
    "\n",
    "1. Encapsulation: Bundling data and methods that operate on the data within a single unit (object), and restricting access to some of the object's components.\n",
    "2. Abstraction: Simplifying complex systems by modeling classes appropriate to the problem.\n",
    "3. Inheritance: Allowing new classes to inherit properties and methods from existing classes, promoting code reuse.\n",
    "4. Polymorphism: Enabling objects to be treated as instances of their parent class rather than their actual class, allowing for multiple implementations of methods.'''\n"
   ]
  },
  {
   "cell_type": "code",
   "execution_count": null,
   "id": "d2822964",
   "metadata": {},
   "outputs": [],
   "source": [
    "#2) Object in OOps\n",
    "# In Python, an object is an instance of a class that encapsulates data (attributes) and behaviors (methods) related to that data, representing a specific entity or concept within a program.\n"
   ]
  },
  {
   "cell_type": "code",
   "execution_count": null,
   "id": "cd72e7bb",
   "metadata": {},
   "outputs": [],
   "source": [
    "#3) Class : A class in Python is a blueprint for creating objects, defining their attributes (data) and methods (functions). It provides a structure to organize and reuse code."
   ]
  },
  {
   "cell_type": "code",
   "execution_count": null,
   "id": "2fc2df37",
   "metadata": {},
   "outputs": [],
   "source": [
    "#4) Attributes : In a class attributes are variables that store data specific to an object\n",
    "#  Methods: are functions that define the behaviors or actions that the object can perform."
   ]
  },
  {
   "cell_type": "markdown",
   "id": "788403af",
   "metadata": {},
   "source": []
  },
  {
   "cell_type": "code",
   "execution_count": null,
   "id": "efcddc76",
   "metadata": {},
   "outputs": [],
   "source": [
    "#5) Class variables :  are shared across all instances of the class. They are defined within the class but outside any instance methods.\n",
    "\n",
    "# Instance variables:  are unique to each instance of the class. They are defined within methods, typically within the __init__ method using self"
   ]
  },
  {
   "cell_type": "code",
   "execution_count": null,
   "id": "a4903f41",
   "metadata": {},
   "outputs": [],
   "source": [
    "#6) Purpose of sef parameter\n",
    "# The `self` parameter in Python class methods allows each object to access its own attributes and methods. It ensures that the code inside the method works with the correct object."
   ]
  },
  {
   "cell_type": "code",
   "execution_count": 3,
   "id": "b380ad22",
   "metadata": {},
   "outputs": [
    {
     "name": "stdout",
     "output_type": "stream",
     "text": [
      "Title: 1984\n",
      "Author: George Orwell\n",
      "ISBN: 1234567890\n",
      "Publication Year: 1949\n",
      "Available Copies: 5\n",
      "One copy of '1984' has been checked out.\n",
      "Title: 1984\n",
      "Author: George Orwell\n",
      "ISBN: 1234567890\n",
      "Publication Year: 1949\n",
      "Available Copies: 4\n",
      "One copy of '1984' has been returned.\n",
      "Title: 1984\n",
      "Author: George Orwell\n",
      "ISBN: 1234567890\n",
      "Publication Year: 1949\n",
      "Available Copies: 5\n"
     ]
    }
   ],
   "source": [
    "#7) \n",
    "class Book:\n",
    "    def __init__(self, title, author, isbn, publication_year, available_copies):\n",
    "        self.title = title\n",
    "        self.author = author\n",
    "        self.isbn = isbn\n",
    "        self.publication_year = publication_year\n",
    "        self.available_copies = available_copies\n",
    "\n",
    "    def check_out(self):\n",
    "        if self.available_copies > 0:\n",
    "            self.available_copies -= 1\n",
    "            print(f\"One copy of '{self.title}' has been checked out.\")\n",
    "        else:\n",
    "            print(f\"No copies of '{self.title}' are available for checkout.\")\n",
    "\n",
    "    def return_book(self):\n",
    "        self.available_copies += 1\n",
    "        print(f\"One copy of '{self.title}' has been returned.\")\n",
    "\n",
    "    def display_book_info(self):\n",
    "        print(f\"Title: {self.title}\")\n",
    "        print(f\"Author: {self.author}\")\n",
    "        print(f\"ISBN: {self.isbn}\")\n",
    "        print(f\"Publication Year: {self.publication_year}\")\n",
    "        print(f\"Available Copies: {self.available_copies}\")\n",
    "\n",
    "# Example usage:\n",
    "book1 = Book(\"1984\", \"George Orwell\", \"1234567890\", 1949, 5)\n",
    "\n",
    "book1.display_book_info()\n",
    "book1.check_out()\n",
    "book1.display_book_info()\n",
    "book1.return_book()\n",
    "book1.display_book_info()\n"
   ]
  },
  {
   "cell_type": "code",
   "execution_count": 4,
   "id": "5a8f699d",
   "metadata": {},
   "outputs": [
    {
     "name": "stdout",
     "output_type": "stream",
     "text": [
      "Ticket ID: T123\n",
      "Event Name: Concert\n",
      "Event Date: 2024-06-15\n",
      "Venue: Stadium\n",
      "Seat Number: A12\n",
      "Price: $100\n",
      "Reserved: No\n",
      "Ticket T123 has been reserved.\n",
      "Ticket ID: T123\n",
      "Event Name: Concert\n",
      "Event Date: 2024-06-15\n",
      "Venue: Stadium\n",
      "Seat Number: A12\n",
      "Price: $100\n",
      "Reserved: Yes\n",
      "Reservation for ticket T123 has been canceled.\n",
      "Ticket ID: T123\n",
      "Event Name: Concert\n",
      "Event Date: 2024-06-15\n",
      "Venue: Stadium\n",
      "Seat Number: A12\n",
      "Price: $100\n",
      "Reserved: No\n"
     ]
    }
   ],
   "source": [
    "#8) \n",
    "class Ticket:\n",
    "    def __init__(self, ticket_id, event_name, event_date, venue, seat_number, price):\n",
    "        self.ticket_id = ticket_id\n",
    "        self.event_name = event_name\n",
    "        self.event_date = event_date\n",
    "        self.venue = venue\n",
    "        self.seat_number = seat_number\n",
    "        self.price = price\n",
    "        self.is_reserved = False\n",
    "\n",
    "    def reserve_ticket(self):\n",
    "        if not self.is_reserved:\n",
    "            self.is_reserved = True\n",
    "            print(f\"Ticket {self.ticket_id} has been reserved.\")\n",
    "        else:\n",
    "            print(f\"Ticket {self.ticket_id} is already reserved.\")\n",
    "\n",
    "    def cancel_reservation(self):\n",
    "        if self.is_reserved:\n",
    "            self.is_reserved = False\n",
    "            print(f\"Reservation for ticket {self.ticket_id} has been canceled.\")\n",
    "        else:\n",
    "            print(f\"Ticket {self.ticket_id} is not reserved.\")\n",
    "\n",
    "    def display_ticket_info(self):\n",
    "        print(f\"Ticket ID: {self.ticket_id}\")\n",
    "        print(f\"Event Name: {self.event_name}\")\n",
    "        print(f\"Event Date: {self.event_date}\")\n",
    "        print(f\"Venue: {self.venue}\")\n",
    "        print(f\"Seat Number: {self.seat_number}\")\n",
    "        print(f\"Price: ${self.price}\")\n",
    "        print(f\"Reserved: {'Yes' if self.is_reserved else 'No'}\")\n",
    "\n",
    "# Example usage:\n",
    "ticket1 = Ticket(\"T123\", \"Concert\", \"2024-06-15\", \"Stadium\", \"A12\", 100)\n",
    "\n",
    "ticket1.display_ticket_info()\n",
    "ticket1.reserve_ticket()\n",
    "ticket1.display_ticket_info()\n",
    "ticket1.cancel_reservation()\n",
    "ticket1.display_ticket_info()\n"
   ]
  },
  {
   "cell_type": "code",
   "execution_count": 5,
   "id": "cf5a80b3",
   "metadata": {},
   "outputs": [
    {
     "name": "stdout",
     "output_type": "stream",
     "text": [
      "Items in the cart:\n",
      "- Shirt\n",
      "- Shoes\n",
      "- Hat\n",
      "Items in the cart:\n",
      "- Shirt\n",
      "- Hat\n",
      "The cart is empty.\n"
     ]
    }
   ],
   "source": [
    "#9) \n",
    "class ShoppingCart:\n",
    "    def __init__(self):\n",
    "        self.items = []\n",
    "\n",
    "    def add_item(self, item):\n",
    "        self.items.append(item)\n",
    "\n",
    "    def remove_item(self, item):\n",
    "        self.items.remove(item) if item in self.items else None\n",
    "\n",
    "    def view_cart(self):\n",
    "        print(\"Items in the cart:\" if self.items else \"The cart is empty.\")\n",
    "        [print(f\"- {item}\") for item in self.items]\n",
    "\n",
    "    def clear_cart(self):\n",
    "        self.items = []\n",
    "\n",
    "# Example usage:\n",
    "cart = ShoppingCart()\n",
    "cart.add_item(\"Shirt\")\n",
    "cart.add_item(\"Shoes\")\n",
    "cart.add_item(\"Hat\")\n",
    "cart.view_cart()\n",
    "\n",
    "cart.remove_item(\"Shoes\")\n",
    "cart.view_cart()\n",
    "\n",
    "cart.clear_cart()\n",
    "cart.view_cart()\n"
   ]
  },
  {
   "cell_type": "code",
   "execution_count": 6,
   "id": "0a26c5e9",
   "metadata": {},
   "outputs": [
    {
     "name": "stdout",
     "output_type": "stream",
     "text": [
      "{'2024-06-01': 'present', '2024-06-02': 'absent', '2024-06-03': 'present'}\n",
      "Average attendance: 66.66666666666666%\n"
     ]
    }
   ],
   "source": [
    "#10)\n",
    "class Student:\n",
    "    def __init__(self, name, age, grade, student_id):\n",
    "        self.name = name\n",
    "        self.age = age\n",
    "        self.grade = grade\n",
    "        self.student_id = student_id\n",
    "        self.attendance = {}\n",
    "\n",
    "    def update_attendance(self, date, status):\n",
    "        self.attendance[date] = status\n",
    "\n",
    "    def get_attendance(self):\n",
    "        return self.attendance\n",
    "\n",
    "    def get_average_attendance(self):\n",
    "        if not self.attendance:\n",
    "            return 0\n",
    "\n",
    "        total_days = len(self.attendance)\n",
    "        present_days = sum(1 for status in self.attendance.values() if status == \"present\")\n",
    "        return (present_days / total_days) * 100\n",
    "\n",
    "# Example usage:\n",
    "student1 = Student(\"Alice\", 15, 10, \"S001\")\n",
    "student1.update_attendance(\"2024-06-01\", \"present\")\n",
    "student1.update_attendance(\"2024-06-02\", \"absent\")\n",
    "student1.update_attendance(\"2024-06-03\", \"present\")\n",
    "\n",
    "print(student1.get_attendance())\n",
    "print(f\"Average attendance: {student1.get_average_attendance()}%\")\n"
   ]
  },
  {
   "cell_type": "code",
   "execution_count": null,
   "id": "99585ec4",
   "metadata": {},
   "outputs": [],
   "source": []
  }
 ],
 "metadata": {
  "kernelspec": {
   "display_name": "Python 3 (ipykernel)",
   "language": "python",
   "name": "python3"
  },
  "language_info": {
   "codemirror_mode": {
    "name": "ipython",
    "version": 3
   },
   "file_extension": ".py",
   "mimetype": "text/x-python",
   "name": "python",
   "nbconvert_exporter": "python",
   "pygments_lexer": "ipython3",
   "version": "3.11.3"
  }
 },
 "nbformat": 4,
 "nbformat_minor": 5
}
