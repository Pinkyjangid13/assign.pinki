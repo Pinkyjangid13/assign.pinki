{
 "cells": [
  {
   "cell_type": "code",
   "execution_count": null,
   "id": "c3f75cfe",
   "metadata": {},
   "outputs": [],
   "source": [
    "#1) TRY AND EXCEPTION BLOCK\n",
    "'''\n",
    "try block : the code within the try block may raise an exception.It allows you to specify the section of code that you want to monitor for exception\n",
    "Except block :the except block allows you to define the code that should be executed when a specific exception is raised.\n",
    "if exception occurs within ths try block,the corresponding except blocks are executed.\n",
    "'''"
   ]
  },
  {
   "cell_type": "code",
   "execution_count": 1,
   "id": "8a86bca3",
   "metadata": {},
   "outputs": [
    {
     "name": "stdout",
     "output_type": "stream",
     "text": [
      "some issue eith x\n"
     ]
    }
   ],
   "source": [
    "#2)\n",
    "try:\n",
    "    print(x)\n",
    "except:\n",
    "        print(\"some issue eith x\")"
   ]
  },
  {
   "cell_type": "code",
   "execution_count": 1,
   "id": "00a228f8",
   "metadata": {},
   "outputs": [
    {
     "name": "stdout",
     "output_type": "stream",
     "text": [
      "Enter numerator :8\n",
      "Enter denominator :0\n"
     ]
    },
    {
     "ename": "ZeroDivisionError",
     "evalue": "division by zero",
     "output_type": "error",
     "traceback": [
      "\u001b[1;31m---------------------------------------------------------------------------\u001b[0m",
      "\u001b[1;31mZeroDivisionError\u001b[0m                         Traceback (most recent call last)",
      "Cell \u001b[1;32mIn[1], line 5\u001b[0m\n\u001b[0;32m      3\u001b[0m     num1 \u001b[38;5;241m=\u001b[39m \u001b[38;5;28mint\u001b[39m(\u001b[38;5;28minput\u001b[39m(\u001b[38;5;124m\"\u001b[39m\u001b[38;5;124mEnter numerator :\u001b[39m\u001b[38;5;124m\"\u001b[39m))\n\u001b[0;32m      4\u001b[0m     num2 \u001b[38;5;241m=\u001b[39m \u001b[38;5;28mint\u001b[39m(\u001b[38;5;28minput\u001b[39m(\u001b[38;5;124m\"\u001b[39m\u001b[38;5;124mEnter denominator :\u001b[39m\u001b[38;5;124m\"\u001b[39m))\n\u001b[1;32m----> 5\u001b[0m     result \u001b[38;5;241m=\u001b[39m num1 \u001b[38;5;241m/\u001b[39m num2\n\u001b[0;32m      6\u001b[0m     \u001b[38;5;28mprint\u001b[39m(\u001b[38;5;124m\"\u001b[39m\u001b[38;5;124mresult\u001b[39m\u001b[38;5;124m\"\u001b[39m,result)\n\u001b[0;32m      7\u001b[0m \u001b[38;5;28;01mexcept\u001b[39;00m \u001b[38;5;167;01mValueError\u001b[39;00m:\n",
      "\u001b[1;31mZeroDivisionError\u001b[0m: division by zero"
     ]
    }
   ],
   "source": [
    "#3) if an excetion occcurs inside a 'try' block in python and there is no corresponding 'except' block that can handle that specific exception,the program execution stops\n",
    "try:\n",
    "    num1 = int(input(\"Enter numerator :\"))\n",
    "    num2 = int(input(\"Enter denominator :\"))\n",
    "    result = num1 / num2\n",
    "    print(\"result\",result)\n",
    "except ValueError:\n",
    "        print(\"This won't be executed bcz there is no except block for ZeroDivisionError\")"
   ]
  },
  {
   "cell_type": "code",
   "execution_count": 1,
   "id": "cc0c6bb0",
   "metadata": {},
   "outputs": [
    {
     "name": "stdout",
     "output_type": "stream",
     "text": [
      "Enter a number: 8\n",
      "Result: 1.25\n",
      "Enter a number: 0\n",
      "Error: Cannot divide by zero.\n"
     ]
    }
   ],
   "source": [
    "#4)\n",
    "#Using a 'bare except' block catches all exceptions randomly, whereas specifying a 'specific exception' type allows you to catch only the specified type of exception.\n",
    "# Bare except block\n",
    "try:\n",
    "    result = 10 / int(input(\"Enter a number: \"))\n",
    "    print(\"Result:\", result)\n",
    "except:\n",
    "    print(\"An error occurred. Please enter a valid number.\")\n",
    "\n",
    "# Specific exception type\n",
    "try:\n",
    "    result = 10 / int(input(\"Enter a number: \"))\n",
    "    print(\"Result:\", result)\n",
    "except ZeroDivisionError:\n",
    "    print(\"Error: Cannot divide by zero.\")\n",
    "except ValueError:\n",
    "    print(\"Error: Please enter a valid number.\")\n",
    "\n",
    "\n"
   ]
  },
  {
   "cell_type": "code",
   "execution_count": 3,
   "id": "d47cce24",
   "metadata": {},
   "outputs": [
    {
     "name": "stdout",
     "output_type": "stream",
     "text": [
      "Enter first value : 9\n",
      "Second value : 8\n",
      "1.125\n"
     ]
    }
   ],
   "source": [
    "#5) Yes! a try-except block can indeed be nested inside another try-except block. This is known as nested exception handling. \n",
    "try:\n",
    "    numerator = int(input(\"Enter first value : \"))\n",
    "    denominator = int(input(\"Second value : \"))\n",
    "    try:\n",
    "        result = numerator/denominator\n",
    "        print(result)\n",
    "    except ZeroDivisionError:\n",
    "        print(\"divide by zero genrates error\")\n",
    "\n",
    "except ValueError:\n",
    "    print(\"This is the example of nested block\")"
   ]
  },
  {
   "cell_type": "code",
   "execution_count": 7,
   "id": "35115f91",
   "metadata": {},
   "outputs": [
    {
     "name": "stdout",
     "output_type": "stream",
     "text": [
      "plz enter the numerrator8\n",
      "plz enter the denomitaor7\n",
      "Results 1.1428571428571428\n"
     ]
    }
   ],
   "source": [
    "#6) MULTIPLE_EXCEPTIONS:\n",
    "try:\n",
    "    n = int(input(\"plz enter the numerrator\"))\n",
    "    d = int(input(\"plz enter the denomitaor\"))\n",
    "    \n",
    "    result = n / d\n",
    "    print(\"Results\",result)\n",
    "    \n",
    "except ValueError:\n",
    "        print(\"Plz enter a valid integer for the num and denom\")\n",
    "except ZeroDivisionError:\n",
    "        print(\"Division by zero is not allowed\")"
   ]
  },
  {
   "cell_type": "code",
   "execution_count": null,
   "id": "98d606bd",
   "metadata": {},
   "outputs": [],
   "source": [
    "#7)\n",
    "\"\"\"\n",
    "EOFError : when the input() hits on end-of-find condition.\n",
    "FloatingPointError : Raised when a floating point operation fails.\n",
    "IndexError : Raised when a sequence subscript is out of range.\n",
    "MemoryError: Raised when an operation runs out of memory.\n",
    "OverFlowError : Raised when the result of an arithmetic operation is too large to be expressed.\n",
    "TabError : Raised when indentation contains mixed tabs and spaces.\n",
    "ValueError: Raised when a built-in operation receives an argument that has right type but an inappropriate value. \n",
    "\"\"\""
   ]
  },
  {
   "cell_type": "code",
   "execution_count": 6,
   "id": "6124056a",
   "metadata": {},
   "outputs": [
    {
     "name": "stdout",
     "output_type": "stream",
     "text": [
      "Please Enter numerator8\n",
      "Please Enter denominator0\n",
      "Error: Division by Zero is not alllowed\n",
      "Element at index : 3\n",
      "Last element in the list: 5\n",
      "Error: Cannot divide by zero.\n",
      "An error occurred: division by zero\n"
     ]
    }
   ],
   "source": [
    "#8)\n",
    "#a.Divide two numbers:\n",
    "try:\n",
    "    num1 = int(input(\"Please Enter numerator\"))\n",
    "    num2 = int(input(\"Please Enter denominator\"))\n",
    "    result = num1 / num2\n",
    "    print(\"Results\",result)\n",
    "except ZeroDivisionError:\n",
    "    print(\"Error: Division by Zero is not alllowed\")\n",
    "#b)\n",
    "def convert_to_integer(input_str):\n",
    "    try:\n",
    "        result = int(input_str)\n",
    "        print(\"Consversion is successul\",result)\n",
    "    except ValuError:\n",
    "        print(\"Error: Unable to convert the input to an integer\")\n",
    "#c)        \n",
    "my_list = [1, 2, 3, 4, 5]\n",
    "\n",
    "# Accessing an element by index\n",
    "index = 2  \n",
    "print(\"Element at index :\"  , my_list[index])\n",
    "# Accessing the last element \n",
    "print(\"Last element in the list:\", my_list[-1])\n",
    "\n",
    "#d)\n",
    "try:\n",
    "    # Attempting to divide by zero\n",
    "    result = 10 / 0\n",
    "    print(\"Result:\", result)\n",
    "except ZeroDivisionError:\n",
    "    print(\"Error: Cannot divide by zero.\")\n",
    "    \n",
    "#e)\n",
    "try:\n",
    "    # Attempting an operation that may raise an exception\n",
    "    result = 10 / 0\n",
    "    print(\"Result:\", result)\n",
    "except Exception as e:\n",
    "    print(\"An error occurred:\", e)\n",
    "\n",
    "\n",
    "      \n"
   ]
  },
  {
   "cell_type": "markdown",
   "id": "d2c03d63",
   "metadata": {},
   "source": [
    "    \n",
    "    "
   ]
  },
  {
   "cell_type": "code",
   "execution_count": null,
   "id": "dc7edc7c",
   "metadata": {},
   "outputs": [],
   "source": []
  }
 ],
 "metadata": {
  "kernelspec": {
   "display_name": "Python 3 (ipykernel)",
   "language": "python",
   "name": "python3"
  },
  "language_info": {
   "codemirror_mode": {
    "name": "ipython",
    "version": 3
   },
   "file_extension": ".py",
   "mimetype": "text/x-python",
   "name": "python",
   "nbconvert_exporter": "python",
   "pygments_lexer": "ipython3",
   "version": "3.11.3"
  }
 },
 "nbformat": 4,
 "nbformat_minor": 5
}
