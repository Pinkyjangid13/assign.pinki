{
 "cells": [
  {
   "cell_type": "code",
   "execution_count": null,
   "id": "92295fc3",
   "metadata": {},
   "outputs": [],
   "source": [
    "#1) Inheritance in OOps :  is like a family tree, where new classes (children) can inherit traits and behaviors from existing classes (parents). It's used to reuse code, extend functionality, and organize classes into hierarchies, making programming more efficient and flexible."
   ]
  },
  {
   "cell_type": "code",
   "execution_count": null,
   "id": "4719f936",
   "metadata": {},
   "outputs": [],
   "source": [
    "#2) Single Inheritance:\n",
    "- A class can inherit from only one superclass.\n",
    "- Simplifies class hierarchy and avoids ambiguity.\n",
    "\n",
    "Multiple Inheritance:\n",
    "- A class can inherit from more than one superclass.\n",
    "- Allows for combining features from multiple sources but can lead to complexity and ambiguity.\n",
    "\n",
    "Advantages:\n",
    "- Single Inheritance: Simplicity and clarity.\n",
    "- Multiple Inheritance: Flexibility and code reuse.\n",
    "\n"
   ]
  },
  {
   "cell_type": "code",
   "execution_count": null,
   "id": "fee7249b",
   "metadata": {},
   "outputs": [],
   "source": [
    "#3) Base Class:\n",
    "- The class that is used as a foundation or template for other classes.\n",
    "- It defines common attributes and methods that are shared by its derived classes.\n",
    "\n",
    "Derived Class:\n",
    "- A class that inherits attributes and methods from a base class.\n",
    "- It can extend the functionality of the base class by adding new features or modifying existing ones."
   ]
  },
  {
   "cell_type": "code",
   "execution_count": null,
   "id": "cd9c6c05",
   "metadata": {},
   "outputs": [],
   "source": [
    "#4) Protected Access Modifier:\n",
    "- Allows access to members within a class and its subclasses.\n",
    "- Provides a balance between encapsulation and inheritance.\n",
    "- Members are not accessible outside the class hierarchy.\n",
    "\n",
    "Private Access Modifier:\n",
    "- Restricts access to members to only within the class where they are defined.\n",
    "- Provides the highest level of encapsulation and data hiding.\n",
    "- Members are not accessible in subclasses or outside the class.\n",
    "\n",
    "Public Access Modifier:\n",
    "- Allows access to members from anywhere, both within and outside the class hierarchy.\n",
    "- Members can be accessed and modified by instances of the class, subclasses, and any other code with access to the class."
   ]
  },
  {
   "cell_type": "code",
   "execution_count": 1,
   "id": "01fb66d9",
   "metadata": {},
   "outputs": [
    {
     "name": "stdout",
     "output_type": "stream",
     "text": [
      "Hello, I'm Alice\n",
      "I am 10 years old\n"
     ]
    }
   ],
   "source": [
    "#5)  the super keyword in inheritance is used to access and call methods or constructors of the parent class (superclass) from within a subclass. This allows for reusing code and extending the functionality of the parent class.\n",
    "class Parent:\n",
    "    def __init__(self, name):\n",
    "        self.name = name\n",
    "\n",
    "    def greet(self):\n",
    "        print(f\"Hello, I'm {self.name}\")\n",
    "\n",
    "class Child(Parent):\n",
    "    def __init__(self, name, age):\n",
    "        super().__init__(name)\n",
    "        self.age = age\n",
    "\n",
    "    def greet(self):\n",
    "        super().greet()\n",
    "        print(f\"I am {self.age} years old\")\n",
    "\n",
    "child = Child(\"Alice\", 10)\n",
    "child.greet()\n",
    "\n"
   ]
  },
  {
   "cell_type": "code",
   "execution_count": 2,
   "id": "3bdcbd26",
   "metadata": {},
   "outputs": [
    {
     "name": "stdout",
     "output_type": "stream",
     "text": [
      "Vehicle: 2022 Toyota Camry\n",
      "Fuel Type: Gasoline\n"
     ]
    }
   ],
   "source": [
    "#6) \n",
    "class Vehicle:\n",
    "    def __init__(self, make, model, year):\n",
    "        self.make = make\n",
    "        self.model = model\n",
    "        self.year = year\n",
    "\n",
    "    def display_info(self):\n",
    "        print(f\"Vehicle: {self.year} {self.make} {self.model}\")\n",
    "\n",
    "\n",
    "class Car(Vehicle):\n",
    "    def __init__(self, make, model, year, fuel_type):\n",
    "        super().__init__(make, model, year)\n",
    "        self.fuel_type = fuel_type\n",
    "\n",
    "    def display_info(self):\n",
    "        super().display_info()\n",
    "        print(f\"Fuel Type: {self.fuel_type}\")\n",
    "\n",
    "\n",
    "# Creating an instance of Car\n",
    "car = Car(\"Toyota\", \"Camry\", 2022, \"Gasoline\")\n",
    "car.display_info()\n"
   ]
  },
  {
   "cell_type": "code",
   "execution_count": 3,
   "id": "ab15e8ce",
   "metadata": {},
   "outputs": [
    {
     "name": "stdout",
     "output_type": "stream",
     "text": [
      "Employee Name: Alice\n",
      "Salary: $90000\n",
      "Department: HR\n",
      "\n",
      "Employee Name: Bob\n",
      "Salary: $80000\n",
      "Programming Language: Python\n"
     ]
    }
   ],
   "source": [
    "#7)\n",
    "class Employee:\n",
    "    def __init__(self, name, salary):\n",
    "        self.name = name\n",
    "        self.salary = salary\n",
    "\n",
    "    def display_info(self):\n",
    "        print(f\"Employee Name: {self.name}\")\n",
    "        print(f\"Salary: ${self.salary}\")\n",
    "\n",
    "class Manager(Employee):\n",
    "    def __init__(self, name, salary, department):\n",
    "        super().__init__(name, salary)\n",
    "        self.department = department\n",
    "\n",
    "    def display_info(self):\n",
    "        super().display_info()\n",
    "        print(f\"Department: {self.department}\")\n",
    "\n",
    "class Developer(Employee):\n",
    "    def __init__(self, name, salary, programming_language):\n",
    "        super().__init__(name, salary)\n",
    "        self.programming_language = programming_language\n",
    "\n",
    "    def display_info(self):\n",
    "        super().display_info()\n",
    "        print(f\"Programming Language: {self.programming_language}\")\n",
    "\n",
    "# Creating instances of Manager and Developer\n",
    "manager = Manager(\"Alice\", 90000, \"HR\")\n",
    "developer = Developer(\"Bob\", 80000, \"Python\")\n",
    "\n",
    "# Displaying information\n",
    "manager.display_info()\n",
    "print()\n",
    "developer.display_info()\n"
   ]
  },
  {
   "cell_type": "code",
   "execution_count": 4,
   "id": "c7918f6a",
   "metadata": {},
   "outputs": [
    {
     "name": "stdout",
     "output_type": "stream",
     "text": [
      "Shape Colour: Red\n",
      "Border Width: 2 units\n",
      "Rectangle Length: 10 units\n",
      "Rectangle Width: 5 units\n",
      "\n",
      "Shape Colour: Blue\n",
      "Border Width: 1 units\n",
      "Circle Radius: 7 units\n"
     ]
    }
   ],
   "source": [
    "#7)\n",
    "class Shape:\n",
    "    def __init__(self, colour, border_width):\n",
    "        self.colour = colour\n",
    "        self.border_width = border_width\n",
    "\n",
    "    def display_info(self):\n",
    "        print(f\"Shape Colour: {self.colour}\")\n",
    "        print(f\"Border Width: {self.border_width} units\")\n",
    "\n",
    "\n",
    "class Rectangle(Shape):\n",
    "    def __init__(self, colour, border_width, length, width):\n",
    "        super().__init__(colour, border_width)\n",
    "        self.length = length\n",
    "        self.width = width\n",
    "\n",
    "    def display_info(self):\n",
    "        super().display_info()\n",
    "        print(f\"Rectangle Length: {self.length} units\")\n",
    "        print(f\"Rectangle Width: {self.width} units\")\n",
    "\n",
    "\n",
    "class Circle(Shape):\n",
    "    def __init__(self, colour, border_width, radius):\n",
    "        super().__init__(colour, border_width)\n",
    "        self.radius = radius\n",
    "\n",
    "    def display_info(self):\n",
    "        super().display_info()\n",
    "        print(f\"Circle Radius: {self.radius} units\")\n",
    "\n",
    "\n",
    "# Creating instances of Rectangle and Circle\n",
    "rectangle = Rectangle(\"Red\", 2, 10, 5)\n",
    "circle = Circle(\"Blue\", 1, 7)\n",
    "\n",
    "# Displaying information\n",
    "rectangle.display_info()\n",
    "print()\n",
    "circle.display_info()\n"
   ]
  },
  {
   "cell_type": "code",
   "execution_count": 5,
   "id": "53f790df",
   "metadata": {},
   "outputs": [
    {
     "name": "stdout",
     "output_type": "stream",
     "text": [
      "Brand: Samsung\n",
      "Model: Galaxy S21\n",
      "Screen Size: 6.2 inches\n",
      "\n",
      "Brand: Apple\n",
      "Model: iPad Pro\n",
      "Battery Capacity: 9720 mAh\n"
     ]
    }
   ],
   "source": [
    "#8) \n",
    "class Device:\n",
    "    def __init__(self, brand, model):\n",
    "        self.brand = brand\n",
    "        self.model = model\n",
    "\n",
    "    def display_info(self):\n",
    "        print(f\"Brand: {self.brand}\")\n",
    "        print(f\"Model: {self.model}\")\n",
    "\n",
    "\n",
    "class Phone(Device):\n",
    "    def __init__(self, brand, model, screen_size):\n",
    "        super().__init__(brand, model)\n",
    "        self.screen_size = screen_size\n",
    "\n",
    "    def display_info(self):\n",
    "        super().display_info()\n",
    "        print(f\"Screen Size: {self.screen_size} inches\")\n",
    "\n",
    "\n",
    "class Tablet(Device):\n",
    "    def __init__(self, brand, model, battery_capacity):\n",
    "        super().__init__(brand, model)\n",
    "        self.battery_capacity = battery_capacity\n",
    "\n",
    "    def display_info(self):\n",
    "        super().display_info()\n",
    "        print(f\"Battery Capacity: {self.battery_capacity} mAh\")\n",
    "\n",
    "\n",
    "# Creating instances of Phone and Tablet\n",
    "phone = Phone(\"Samsung\", \"Galaxy S21\", 6.2)\n",
    "tablet = Tablet(\"Apple\", \"iPad Pro\", 9720)\n",
    "\n",
    "# Displaying information\n",
    "phone.display_info()\n",
    "print()\n",
    "tablet.display_info()\n"
   ]
  },
  {
   "cell_type": "code",
   "execution_count": 6,
   "id": "ede54239",
   "metadata": {},
   "outputs": [
    {
     "name": "stdout",
     "output_type": "stream",
     "text": [
      "Brand: Samsung\n",
      "Model: Galaxy S21\n",
      "Screen Size: 6.2 inches\n",
      "\n",
      "Brand: Apple\n",
      "Model: iPad Pro\n",
      "Battery Capacity: 9720 mAh\n"
     ]
    }
   ],
   "source": [
    "#9)\n",
    "class Device:\n",
    "    def __init__(self, brand, model):\n",
    "        self.brand = brand\n",
    "        self.model = model\n",
    "\n",
    "    def display_info(self):\n",
    "        print(f\"Brand: {self.brand}\")\n",
    "        print(f\"Model: {self.model}\")\n",
    "\n",
    "\n",
    "class Phone(Device):\n",
    "    def __init__(self, brand, model, screen_size):\n",
    "        super().__init__(brand, model)\n",
    "        self.screen_size = screen_size\n",
    "\n",
    "    def display_info(self):\n",
    "        super().display_info()\n",
    "        print(f\"Screen Size: {self.screen_size} inches\")\n",
    "\n",
    "\n",
    "class Tablet(Device):\n",
    "    def __init__(self, brand, model, battery_capacity):\n",
    "        super().__init__(brand, model)\n",
    "        self.battery_capacity = battery_capacity\n",
    "\n",
    "    def display_info(self):\n",
    "        super().display_info()\n",
    "        print(f\"Battery Capacity: {self.battery_capacity} mAh\")\n",
    "\n",
    "\n",
    "# Creating instances of Phone and Tablet\n",
    "phone = Phone(\"Samsung\", \"Galaxy S21\", 6.2)\n",
    "tablet = Tablet(\"Apple\", \"iPad Pro\", 9720)\n",
    "\n",
    "# Displaying information\n",
    "phone.display_info()\n",
    "print()\n",
    "tablet.display_info()\n"
   ]
  },
  {
   "cell_type": "code",
   "execution_count": 7,
   "id": "34a98cdb",
   "metadata": {},
   "outputs": [
    {
     "name": "stdout",
     "output_type": "stream",
     "text": [
      "Account Number: SA123456\n",
      "Balance: $1000.00\n",
      "\n",
      "Interest calculated: $15.00\n",
      "New Balance: $1015.00\n",
      "\n",
      "Account Number: CA654321\n",
      "Balance: $500.00\n",
      "\n",
      "Fees deducted: $5.00\n",
      "New Balance: $495.00\n"
     ]
    }
   ],
   "source": [
    "class BankAccount:\n",
    "    def __init__(self, account_number, balance):\n",
    "        self.account_number = account_number\n",
    "        self.balance = balance\n",
    "\n",
    "    def display_info(self):\n",
    "        print(f\"Account Number: {self.account_number}\")\n",
    "        print(f\"Balance: ${self.balance:.2f}\")\n",
    "\n",
    "\n",
    "class SavingsAccount(BankAccount):\n",
    "    def __init__(self, account_number, balance, interest_rate):\n",
    "        super().__init__(account_number, balance)\n",
    "        self.interest_rate = interest_rate\n",
    "\n",
    "    def calculate_interest(self):\n",
    "        interest = self.balance * (self.interest_rate / 100)\n",
    "        self.balance += interest\n",
    "        print(f\"Interest calculated: ${interest:.2f}\")\n",
    "        print(f\"New Balance: ${self.balance:.2f}\")\n",
    "\n",
    "\n",
    "class CheckingAccount(BankAccount):\n",
    "    def __init__(self, account_number, balance, fee):\n",
    "        super().__init__(account_number, balance)\n",
    "        self.fee = fee\n",
    "\n",
    "    def deduct_fees(self):\n",
    "        self.balance -= self.fee\n",
    "        print(f\"Fees deducted: ${self.fee:.2f}\")\n",
    "        print(f\"New Balance: ${self.balance:.2f}\")\n",
    "\n",
    "\n",
    "# Creating instances of SavingsAccount and CheckingAccount\n",
    "savings_account = SavingsAccount(\"SA123456\", 1000, 1.5)\n",
    "checking_account = CheckingAccount(\"CA654321\", 500, 5)\n",
    "\n",
    "# Displaying information\n",
    "savings_account.display_info()\n",
    "print()\n",
    "savings_account.calculate_interest()\n",
    "print()\n",
    "checking_account.display_info()\n",
    "print()\n",
    "checking_account.deduct_fees()\n"
   ]
  },
  {
   "cell_type": "code",
   "execution_count": null,
   "id": "65365877",
   "metadata": {},
   "outputs": [],
   "source": []
  }
 ],
 "metadata": {
  "kernelspec": {
   "display_name": "Python 3 (ipykernel)",
   "language": "python",
   "name": "python3"
  },
  "language_info": {
   "codemirror_mode": {
    "name": "ipython",
    "version": 3
   },
   "file_extension": ".py",
   "mimetype": "text/x-python",
   "name": "python",
   "nbconvert_exporter": "python",
   "pygments_lexer": "ipython3",
   "version": "3.11.3"
  }
 },
 "nbformat": 4,
 "nbformat_minor": 5
}
