{
 "cells": [
  {
   "cell_type": "code",
   "execution_count": 1,
   "id": "3ea09825",
   "metadata": {},
   "outputs": [
    {
     "name": "stdout",
     "output_type": "stream",
     "text": [
      "Length of numbers: 5\n",
      "Result of addition: 7\n"
     ]
    }
   ],
   "source": [
    "#1) Difference b/w built in function and user defined function\n",
    "''' Built-in Function : Built-in functions are predefined functions provided by Python itself.\n",
    "Examples:  print(), len(), range(), sum(), etc.\n",
    "'''\n",
    "# Using built-in function\n",
    "numbers = [1, 2, 3, 4, 5]\n",
    "print(\"Length of numbers:\", len(numbers))\n",
    "\n",
    "# User-defined Function: User-defined functions are functions defined by the user to perform specific tasks.\n",
    "#They are created using the def keyword \n",
    "# Defining a user-defined function\n",
    "def add_numbers(a, b):\n",
    "    return a + b\n",
    "\n",
    "# Using the user-defined function\n",
    "result = add_numbers(3, 4)\n",
    "print(\"Result of addition:\", result)\n"
   ]
  },
  {
   "cell_type": "code",
   "execution_count": 5,
   "id": "2188800b",
   "metadata": {},
   "outputs": [
    {
     "name": "stdout",
     "output_type": "stream",
     "text": [
      "Hello, Alice! How are you?\n",
      "Hello, Alice! How are you?\n"
     ]
    }
   ],
   "source": [
    "#2) We can pass arguments to a function in two main ways: positional arguments and keyword arguments.\n",
    "\n",
    "#The difference between pPositional arguments rely on the order of arguments passed, while keyword arguments are passed with their corresponding parameter names explicitly specified.\n",
    "\n",
    "# Positional Arguments: Positional arguments are passed to a function based on their position or order in the function's parameter list.\n",
    "def greet(name, message):\n",
    "    print(f\"Hello, {name}! {message}\")\n",
    "\n",
    "# Using position arguments\n",
    "greet(\"Alice\", \"How are you?\")\n",
    "\n",
    "# Keyword Arguments: Keyword arguments are passed to a function with a specific keyword identifier.\n",
    "def greet(name, message):\n",
    "    print(f\"Hello, {name}! {message}\")\n",
    "\n",
    "# Using keyword arguments\n",
    "greet(message=\"How are you?\", name=\"Alice\")\n",
    "\n",
    "\n",
    "\n"
   ]
  },
  {
   "cell_type": "code",
   "execution_count": 6,
   "id": "ef64f4d7",
   "metadata": {},
   "outputs": [
    {
     "name": "stdout",
     "output_type": "stream",
     "text": [
      "Odd\n",
      "Even\n"
     ]
    }
   ],
   "source": [
    "#3) The `return` statement in a function allows it to exit and send a value back to the caller. Yes, a function can have multiple `return` statements, enabling it to return different values based on different conditions or paths of execution.\n",
    "def check_even_odd(num):\n",
    "    if num % 2 == 0:\n",
    "        return \"Even\"\n",
    "    else:\n",
    "        return \"Odd\"\n",
    "\n",
    "# Test the function\n",
    "print(check_even_odd(5))  \n",
    "print(check_even_odd(10)) \n"
   ]
  },
  {
   "cell_type": "code",
   "execution_count": 7,
   "id": "8cccbf26",
   "metadata": {},
   "outputs": [
    {
     "name": "stdout",
     "output_type": "stream",
     "text": [
      "27\n"
     ]
    }
   ],
   "source": [
    "#4) #1) LAMBDA_FUNCTION:\n",
    "'''Lambda functions are small, anonymous functions defined with the lambda keyword.\n",
    "DIFFER FROM NORMAL FUNCTION:\n",
    "1.They can take any number of arguments but can only have one expression.\n",
    "2. As regular function defined by 'def' but lambda functions don't have such name.\n",
    "3. lambda functions are limited in scope\n",
    "'''\n",
    "cube = lambda x: x**3\n",
    "print(cube(3))"
   ]
  },
  {
   "cell_type": "code",
   "execution_count": 8,
   "id": "632b8c98",
   "metadata": {},
   "outputs": [
    {
     "name": "stdout",
     "output_type": "stream",
     "text": [
      "10\n",
      "20\n"
     ]
    }
   ],
   "source": [
    "#5) Local Scope: Variables defined within a function are said to have local scope. They are accessible only within the function in which they are defined.\n",
    "def my_function():\n",
    "    x = 10  # local variable\n",
    "    print(x)\n",
    "\n",
    "my_function()\n",
    "# print(x)  # This would raise a NameError because x is not defined in the global scope\n",
    "\n",
    "#Global Scope: Variables defined outside of any function or declared as global within a function have global scope. They are accessible from anywhere in the program, including inside functions.\n",
    "y = 20  # global variable\n",
    "\n",
    "def another_function():\n",
    "    print(y)\n",
    "\n",
    "another_function()  \n",
    "\n"
   ]
  },
  {
   "cell_type": "code",
   "execution_count": 9,
   "id": "bfb32110",
   "metadata": {},
   "outputs": [
    {
     "name": "stdout",
     "output_type": "stream",
     "text": [
      "Product: 20\n",
      "Quotient: 5.0\n"
     ]
    }
   ],
   "source": [
    "#6) We can use the return statement in a function to return multiple values by separating them with commas.\n",
    "def multiply_and_divide(x, y):\n",
    "    product = x * y\n",
    "    quotient = x / y\n",
    "    return product, quotient\n",
    "\n",
    "# Call the function and unpack the returned tuple\n",
    "result1, result2 = multiply_and_divide(10, 2)\n",
    "print(\"Product:\", result1)\n",
    "print(\"Quotient:\", result2)\n"
   ]
  },
  {
   "cell_type": "code",
   "execution_count": null,
   "id": "fbfeaf15",
   "metadata": {},
   "outputs": [],
   "source": [
    "#7) \n",
    "'''Pass by Value:\n",
    "In \"pass by value,\" a copy of the value of the actual parameter is passed to the function.\n",
    "Any modifications made to the parameter inside the function do not affect the original value outside the function.\n",
    "'''\n",
    "'''Pass by Reference:\n",
    "In \"pass by reference,\" a reference to the memory location of the actual parameter is passed to the function.\n",
    "Any modifications made to the parameter inside the function affect the original value outside the function.\n",
    "'''\n"
   ]
  },
  {
   "cell_type": "code",
   "execution_count": 10,
   "id": "77d9221a",
   "metadata": {},
   "outputs": [
    {
     "name": "stdout",
     "output_type": "stream",
     "text": [
      "Logarithm of 10: 2.302585092994046\n",
      "Exponential of 2: 7.38905609893065\n",
      "Power of 2 to the 3rd: 8\n",
      "Square root of 16: 4.0\n"
     ]
    }
   ],
   "source": [
    "#8) \n",
    "import math\n",
    "\n",
    "#(a) Logarithmic function (log x)\n",
    "def logarithm(x):\n",
    "    return math.log(x)\n",
    "\n",
    "# Example usage\n",
    "print(\"Logarithm of 10:\", logarithm(10))  \n",
    "\n",
    "#(b) Exponential function (exp(x))\n",
    "def exponential(x):\n",
    "    return math.exp(x)\n",
    "\n",
    "# Example usage\n",
    "print(\"Exponential of 2:\", exponential(2))  # Output: 7.38905609893065\n",
    "\n",
    "#(c) Power function with base 2 (2^x)\n",
    "def power_of_2(x):\n",
    "    return 2 ** x\n",
    "\n",
    "# Example usage\n",
    "print(\"Power of 2 to the 3rd:\", power_of_2(3))  # Output: 8\n",
    "\n",
    "#(d) Square root\n",
    "def square_root(x):\n",
    "    return math.sqrt(x)\n",
    "\n",
    "# Example usage\n",
    "print(\"Square root of 16:\", square_root(16))  # Output: 4.0\n"
   ]
  },
  {
   "cell_type": "code",
   "execution_count": 11,
   "id": "86c4da7e",
   "metadata": {},
   "outputs": [
    {
     "name": "stdout",
     "output_type": "stream",
     "text": [
      "First Name: John\n",
      "Last Name: Doe\n"
     ]
    }
   ],
   "source": [
    "#9)\n",
    "def split_name(full_name):\n",
    "    return full_name.split(maxsplit=1)\n",
    "\n",
    "# Test the function\n",
    "first_name, last_name = split_name(\"John Doe\")\n",
    "print(\"First Name:\", first_name)\n",
    "print(\"Last Name:\", last_name)\n"
   ]
  },
  {
   "cell_type": "code",
   "execution_count": null,
   "id": "7ac3f12d",
   "metadata": {},
   "outputs": [],
   "source": []
  },
  {
   "cell_type": "code",
   "execution_count": null,
   "id": "a883606c",
   "metadata": {},
   "outputs": [],
   "source": []
  }
 ],
 "metadata": {
  "kernelspec": {
   "display_name": "Python 3 (ipykernel)",
   "language": "python",
   "name": "python3"
  },
  "language_info": {
   "codemirror_mode": {
    "name": "ipython",
    "version": 3
   },
   "file_extension": ".py",
   "mimetype": "text/x-python",
   "name": "python",
   "nbconvert_exporter": "python",
   "pygments_lexer": "ipython3",
   "version": "3.11.3"
  }
 },
 "nbformat": 4,
 "nbformat_minor": 5
}
