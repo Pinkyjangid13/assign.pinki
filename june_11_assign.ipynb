{
 "cells": [
  {
   "cell_type": "code",
   "execution_count": null,
   "id": "ed44276d",
   "metadata": {},
   "outputs": [],
   "source": [
    "#1) LAMBDA_FUNCTION:\n",
    "'''Lambda functions are small, anonymous functions defined with the lambda keyword.\n",
    "DIFFER FROM NORMAL FUNCTION:\n",
    "1.They can take any number of arguments but can only have one expression.\n",
    "2. As regular function defined by 'def' but lambda functions don't have such name.\n",
    "3. lambda functions are limited in scope\n",
    "'''"
   ]
  },
  {
   "cell_type": "code",
   "execution_count": 1,
   "id": "9ebab5ab",
   "metadata": {},
   "outputs": [
    {
     "name": "stdout",
     "output_type": "stream",
     "text": [
      "8\n"
     ]
    }
   ],
   "source": [
    "#2) LAMBDA_FUNCTION_MULTIPLE _ARGUMENTS:\n",
    "add = lambda x,y: x+y\n",
    "print(add(5,3)) # x,y are agruments \n"
   ]
  },
  {
   "cell_type": "code",
   "execution_count": 3,
   "id": "03cbd985",
   "metadata": {},
   "outputs": [
    {
     "name": "stdout",
     "output_type": "stream",
     "text": [
      "27\n"
     ]
    }
   ],
   "source": [
    "#3)\n",
    "\"\"\"\n",
    "USE OF LAMBDA FUNCTION IN PYTHON : Lambda functions are small,anonymous functions with lambda keyword.They can take any number of arguments but ony can have expression.\n",
    "Also,they are limited in scope.\n",
    "\"\"\"\n",
    "cube = lambda x: x**3\n",
    "print(cube(3))\n"
   ]
  },
  {
   "cell_type": "code",
   "execution_count": null,
   "id": "6c9d7736",
   "metadata": {},
   "outputs": [],
   "source": [
    "#4)\n",
    "#ADVANTAGES_OF_LAMBDA_FUNCCTIONS:\n",
    "'''\n",
    "For small tasks it's benefial to use,and as they don't need 'def' statement.\n",
    "they don't require return statment.\n",
    "they can use whever function required such as inside map(),filter(),sorted() etc.\n",
    "'''\n",
    "#DISADVANTAGES:\n",
    "'''\n",
    "They are restricted to single expression,means they can't contain complex logic.\n",
    "They are lack of name so it's difficult to find out debbuging(to reference in error message)\n",
    "'''"
   ]
  },
  {
   "cell_type": "code",
   "execution_count": 49,
   "id": "e46c514e",
   "metadata": {},
   "outputs": [],
   "source": [
    "#5)LAMBDA_FUNCTIONS_OUTSIDE_FUNCTIONS:\n",
    "'''\n",
    "No! we cannot access variables defined outside of their own scope.'''\n",
    "x = 10\n",
    "my_lambda = lambda x :x\n",
    "\n",
    "#this cause error\n",
    "#print(my_lambda(9))\n"
   ]
  },
  {
   "cell_type": "code",
   "execution_count": 4,
   "id": "efd3c868",
   "metadata": {},
   "outputs": [
    {
     "name": "stdout",
     "output_type": "stream",
     "text": [
      "4\n"
     ]
    }
   ],
   "source": [
    "#6)\n",
    "#SQUARE_OF_A_FUNCTION_USING_LAMBDA_FUNCTION:\n",
    "square = lambda x: x**2\n",
    "print(square(2))"
   ]
  },
  {
   "cell_type": "code",
   "execution_count": 12,
   "id": "2aa3057a",
   "metadata": {},
   "outputs": [
    {
     "name": "stdout",
     "output_type": "stream",
     "text": [
      "20\n"
     ]
    }
   ],
   "source": [
    "#7)\n",
    "max_numb = lambda x,y : x if x > y else y\n",
    "print(max_numb(10,20))"
   ]
  },
  {
   "cell_type": "code",
   "execution_count": 13,
   "id": "3f1a769a",
   "metadata": {},
   "outputs": [
    {
     "name": "stdout",
     "output_type": "stream",
     "text": [
      "even\n"
     ]
    }
   ],
   "source": [
    "#8)\n",
    "even_numb = lambda x: 'even' if x%2 == 0 else 'odd'\n",
    "print(even_numb(6))"
   ]
  },
  {
   "cell_type": "code",
   "execution_count": 7,
   "id": "7fccc750",
   "metadata": {},
   "outputs": [
    {
     "name": "stdout",
     "output_type": "stream",
     "text": [
      "['amar', 'kuldeep', 'pinki', 'raj', 'ruchika']\n"
     ]
    }
   ],
   "source": [
    "#9)\n",
    "students = ['raj','pinki','kuldeep','amar','ruchika']\n",
    "sort_list = sorted(students,key = lambda x : x)\n",
    "print(sort_list)\n",
    "\n",
    "    "
   ]
  },
  {
   "cell_type": "code",
   "execution_count": 33,
   "id": "16054d48",
   "metadata": {},
   "outputs": [
    {
     "name": "stdout",
     "output_type": "stream",
     "text": [
      "[4, 5, 6]\n"
     ]
    }
   ],
   "source": [
    "#10)\n",
    "x = [1,2,3,4,5,6,7]\n",
    "y = [11,12,13,4,5,6,17]\n",
    "two_func = list(filter(lambda z: z in x,y ))\n",
    "print(two_func)"
   ]
  },
  {
   "cell_type": "code",
   "execution_count": 41,
   "id": "e2021c51",
   "metadata": {},
   "outputs": [],
   "source": [
    "#11)\n",
    "def factorial(n):\n",
    "    if n == 1:\n",
    "        return 1\n",
    "    else:\n",
    "        return n * factorial(n-1)\n"
   ]
  },
  {
   "cell_type": "code",
   "execution_count": 42,
   "id": "4f4c98f7",
   "metadata": {},
   "outputs": [
    {
     "name": "stdout",
     "output_type": "stream",
     "text": [
      "0\n",
      "1\n",
      "1\n",
      "2\n",
      "3\n",
      "5\n",
      "8\n"
     ]
    }
   ],
   "source": [
    "#12)\n",
    "def my_fibonacci(n):\n",
    "    a, b = 0, 1\n",
    "    for i in range(n):\n",
    "        print(a)\n",
    "        a, b = b, a + b\n",
    "\n",
    "my_fibonacci(7)"
   ]
  },
  {
   "cell_type": "code",
   "execution_count": 45,
   "id": "fdc19cc3",
   "metadata": {},
   "outputs": [
    {
     "data": {
      "text/plain": [
       "78"
      ]
     },
     "execution_count": 45,
     "metadata": {},
     "output_type": "execute_result"
    }
   ],
   "source": [
    "#13)\n",
    "def recursive_sum(n):\n",
    "    if n == 1:\n",
    "        return 1\n",
    "    else:\n",
    "        return n + recursive_sum(n-1)\n",
    "recursive_sum(12)"
   ]
  },
  {
   "cell_type": "code",
   "execution_count": 47,
   "id": "85fcb97e",
   "metadata": {},
   "outputs": [
    {
     "name": "stdout",
     "output_type": "stream",
     "text": [
      "Yes\n"
     ]
    }
   ],
   "source": [
    "#14) PALINDROME:A string is said to be a palimdrome if the reverse of the string is same as the string.\n",
    "def isPalidrome(s):\n",
    "    return s\n",
    "s = \"radar\"\n",
    "ans = isPalidrome(s)\n",
    "if ans:\n",
    "    print(\"Yes\")\n",
    "else:\n",
    "        print(\"NO\")"
   ]
  },
  {
   "cell_type": "code",
   "execution_count": 4,
   "id": "5160df8f",
   "metadata": {},
   "outputs": [],
   "source": [
    "#15.\n",
    "def gcd(a,b):\n",
    "    if a == b:\n",
    "        return a\n",
    "    elif a > b:\n",
    "        return gcd(a-b,b)\n",
    "    else:\n",
    "        return gcd(a,b-a)"
   ]
  },
  {
   "cell_type": "code",
   "execution_count": 6,
   "id": "b9eeffbe",
   "metadata": {},
   "outputs": [
    {
     "data": {
      "text/plain": [
       "1"
      ]
     },
     "execution_count": 6,
     "metadata": {},
     "output_type": "execute_result"
    }
   ],
   "source": [
    "gcd(5,8)"
   ]
  },
  {
   "cell_type": "code",
   "execution_count": null,
   "id": "59581de7",
   "metadata": {},
   "outputs": [],
   "source": []
  }
 ],
 "metadata": {
  "kernelspec": {
   "display_name": "Python 3 (ipykernel)",
   "language": "python",
   "name": "python3"
  },
  "language_info": {
   "codemirror_mode": {
    "name": "ipython",
    "version": 3
   },
   "file_extension": ".py",
   "mimetype": "text/x-python",
   "name": "python",
   "nbconvert_exporter": "python",
   "pygments_lexer": "ipython3",
   "version": "3.11.3"
  }
 },
 "nbformat": 4,
 "nbformat_minor": 5
}
